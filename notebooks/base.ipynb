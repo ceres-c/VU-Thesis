{
 "cells": [
  {
   "cell_type": "markdown",
   "metadata": {},
   "source": [
    "# Picocoder\n",
    "_A Raspberry Pi Pico microcode glitcher_\n",
    "\n",
    "## Connection\n",
    "We connect with the Pi Pico and setup some glitching options."
   ]
  },
  {
   "cell_type": "code",
   "execution_count": 1,
   "metadata": {},
   "outputs": [],
   "source": [
    "%matplotlib widget\n",
    "\n",
    "POWERSUPPLY_PORT = '/dev/ttyACM0'\n",
    "GLITCHER_PORT = '/dev/ttyACM1'\n",
    "GLITCHER_BAUD = 115200\n",
    "\n",
    "import matplotlib.pyplot as plt\n",
    "from matplotlib.ticker import MaxNLocator\n",
    "from importlib import reload # for debugging\n",
    "\n",
    "import glitch_utils\n",
    "from glitch_utils import GlitchyMcGlitchFace, GlitchResult\n",
    "from power_supply import PowerSupply, KA3305P\n",
    "glitch_utils = reload(glitch_utils)\n",
    "\n",
    "try:\n",
    "\tdel ps\n",
    "\tdel glitcher\n",
    "\tdel gc\n",
    "except:\n",
    "\tpass\n",
    "ps = KA3305P(port=POWERSUPPLY_PORT, cycle_wait=0.5)\n",
    "ps.con()\n",
    "ps.power_cycle()\n",
    "\n",
    "glitcher = glitch_utils.GlitchyMcGlitchFace(GLITCHER_PORT, GLITCHER_BAUD)\n",
    "if not glitcher.ping():\n",
    "\traise Exception(\"Glitcher not responding\")\n",
    "if not glitcher.ping_target():\n",
    "\traise Exception(\"Target not responding\")\n",
    "\n",
    "def reset_target(ps: PowerSupply, glitcher: GlitchyMcGlitchFace) -> None:\n",
    "\tps.power_cycle()\n",
    "\tif not glitcher.ping_target():\n",
    "\t\traise Exception(\"Target not responding after reset\")"
   ]
  },
  {
   "cell_type": "markdown",
   "metadata": {},
   "source": [
    "## Measure the duration of opcode loop\n",
    "We obtain an estimate (in us) of the loop where the opcode is executed, which\n",
    "is an upper bound for ext_offset+width.\n",
    "\n",
    "This is calculated by measuring the number of microseconds between two\n",
    "consecutive bytes received by the glitcher from the t arget, and subtracting\n",
    "the time between the first UART pulse appears on the channel, and when the\n",
    "glitcher detects an incoming byte. It is therefore expected to be less than\n",
    "the actual duration of the opcode loop."
   ]
  },
  {
   "cell_type": "code",
   "execution_count": 2,
   "metadata": {},
   "outputs": [
    {
     "name": "stdout",
     "output_type": "stream",
     "text": [
      "Measured total duration: 477\n"
     ]
    }
   ],
   "source": [
    "max_total_duration = glitcher.measure_loop_duration()\n",
    "if max_total_duration < 0:\n",
    "\traise Exception(f'Invalid duration {max_total_duration}')\n",
    "print(f\"Measured total duration: {max_total_duration}\")"
   ]
  },
  {
   "cell_type": "markdown",
   "metadata": {},
   "source": [
    "## Measure UART delay\n",
    "This command is used to measure (externally) the time it takes for the Pico to\n",
    "detect data on the UART RX pin and to start processing it. <br>\n",
    "The debug pin (GPIO 16, shown blue) is toggled when the Pico detects data.\n",
    "\n",
    "![Oscilloscope capture](../firmware/inject_v2/img/fast_response_time_busy_wait_on_UART_with_timeout.png)"
   ]
  },
  {
   "cell_type": "code",
   "execution_count": null,
   "metadata": {},
   "outputs": [],
   "source": [
    "glitcher.uart_toggle_debug_pin()"
   ]
  },
  {
   "cell_type": "markdown",
   "metadata": {},
   "source": [
    "## Voltage range\n",
    "\n",
    "### TODO change this part\n",
    "Find where the CPU starts to stall. We ask the target to send 50 bytes to the\n",
    "pico, and then we bring the voltage down for a fairly long time.\n",
    "\n",
    "The target will then either behave normally or die altogether, not just stall\n",
    "for some clock cycles. This test is fairly slow as it involves a lot of\n",
    "external resets, but within a handful of minutes a sensible working voltage\n",
    "can be identified right above the reset cluster\n",
    "\n",
    "![Voltage range test plot (ignore the squares)](img/voltage_range_plot.png)\n",
    "\n",
    "Here, for example, we can see that down to 59 (0b111011) the target is mostly\n",
    "working, but there is a significant amount of crashed at 58 (0b111010). 59 will\n",
    "then be the starting value for the glitching range.\n",
    "\n",
    "### Oscilloscope captures\n",
    "| Color | Description |\n",
    "| --- | --- |\n",
    "| Yellow | Target UART TX |\n",
    "| Pink | PMBus/I2C SCL |\n",
    "| Blue | PMBus/I2C SDA |\n",
    "| Green | VCore |\n",
    "\n",
    "#### No effect\n",
    "When the voltage drop does not affect the target, it will successfully send the\n",
    "50 bytes.\n",
    "\n",
    "![Safe voltage and width](img/voltage_range_alive.png)\n",
    "\n",
    "#### CPU halt\n",
    "When the voltage is too low, the target will hang and not finish sending data.\n",
    "\n",
    "![Too low voltage](img/voltage_range_dead.png)"
   ]
  },
  {
   "cell_type": "code",
   "execution_count": null,
   "metadata": {},
   "outputs": [],
   "source": [
    "gc_vp = glitch_utils.GlitchController(groups=[r.name for r in GlitchResult], parameters=['ext_offset', 'prep_voltage'])\n",
    "gc_vp.set_range('ext_offset', 477-200, 477-150) # old max_total_duration measured without nop loop\n",
    "# gc_vp.set_range('prep_voltage', 0b0101001, 0b0110011) # 0.9V-1V - See Table 6-3 in TPS65094 datasheet\n",
    "gc_vp.set_range('prep_voltage', 0b0011111, 0b0101001) # 0.8V-0.9V - See Table 6-3 in TPS65094 datasheet\n",
    "# gc_vp.set_range('prep_voltage', 0b0011111, 0b0100011) # 0.8V-0.84V - See Table 6-3 in TPS65094 datasheet\n",
    "# gc_vp.set_range('prep_voltage', 0b0010101, 0b0011111) # 0.7V-0.8V - See Table 6-3 in TPS65094 datasheet\n",
    "glitcher.voltage = 0b0111101 # 1.1V\n",
    "\n",
    "# NOTE This figure must be generated in a different cell than the one that calls the plot function\n",
    "#\t   Otherwise the plot will not be displayed until the cell is done executing (no live plot)\n",
    "fig, ax = plt.subplots()\n",
    "ax.yaxis.set_major_locator(MaxNLocator(integer=True))\n",
    "ax.xaxis.set_major_locator(MaxNLocator(integer=True))"
   ]
  },
  {
   "cell_type": "code",
   "execution_count": null,
   "metadata": {},
   "outputs": [],
   "source": [
    "for glitch_setting in gc_vp.rand_glitch_values():\n",
    "\ttry:\n",
    "\t\t[max_ext_offset, prep_voltage] = glitch_setting\n",
    "\t\t# glitcher.voltage = prep_voltage # Use same as prep during \"glitch\"\n",
    "\t\tread_result, read_data = glitcher.mul_test_vp(glitch_setting)\n",
    "\t\tgc_vp.add_result(glitch_setting, read_result)\n",
    "\t\tif read_result == GlitchResult.SUCCESS:\n",
    "\t\t\t[successes, result_a, result_b] = read_data\n",
    "\t\t\tprint(f'SUCCESS! With {successes} iterations, {result_a} != {result_b}')\n",
    "\t\tif read_result == GlitchResult.WEIRD:\n",
    "\t\t\tprint(f'Got weird response: 0x{read_data.hex()}')\n",
    "\t\tif read_result == GlitchResult.HALF_SUCCESS:\n",
    "\t\t\tprint(f'HALF SUCCESS! {read_data} != {read_data}')\n",
    "\t\t\tbreak # Stop here so we can see on the oscilloscope\n",
    "\t\t# Print current point\n",
    "\t\tax.plot(max_ext_offset, prep_voltage, read_result)\n",
    "\n",
    "\t\tfig.canvas.draw() # Guarantees live update of the plot whenever a new point is added\n",
    "\n",
    "\t\tif read_result in [GlitchResult.RESET, GlitchResult.BROKEN]:\n",
    "\t\t\treset_target(ps, glitcher)\n",
    "\texcept KeyboardInterrupt:\n",
    "\t\tfig.canvas.draw()\n",
    "\t\tbreak # Gentle stop, otherwise the plot might look empty"
   ]
  },
  {
   "cell_type": "markdown",
   "metadata": {},
   "source": [
    "## Glitch loop"
   ]
  },
  {
   "cell_type": "code",
   "execution_count": 7,
   "metadata": {},
   "outputs": [
    {
     "data": {
      "application/vnd.jupyter.widget-view+json": {
       "model_id": "6348c17a3ee646f4a622b172d84d7102",
       "version_major": 2,
       "version_minor": 0
      },
      "image/png": "[encoded data removed]",
      "text/html": [
       "\n",
       "            <div style=\"display: inline-block;\">\n",
       "                <div class=\"jupyter-widgets widget-label\" style=\"text-align: center;\">\n",
       "                    Figure\n",
       "                </div>\n",
       "                <img src='data:image/png;base64,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' width=640.0/>\n",
       "            </div>\n",
       "        "
      ],
      "text/plain": [
       "Canvas(toolbar=Toolbar(toolitems=[('Home', 'Reset original view', 'home', 'home'), ('Back', 'Back to previous …"
      ]
     },
     "metadata": {},
     "output_type": "display_data"
    }
   ],
   "source": [
    "gc = glitch_utils.GlitchControllerTPS65094(groups=[r.name for r in GlitchResult], parameters=['ext_offset', 'width', 'voltage'])\n",
    "gc.set_range('ext_offset', max_total_duration-250, max_total_duration-200)\n",
    "gc.set_range('width', 1, 100)\n",
    "gc.set_range('voltage', 0b0100010, 0b0100100) # 0.83V-0.85V - See Table 6-3 in TPS65094 datasheet\n",
    "glitcher.prep_voltage = 0b0101010 # 0.91V\n",
    "\n",
    "# NOTE This figure must be generated in a different cell than the one that calls the plot function\n",
    "#\t   Otherwise the plot will not be displayed until the cell is done executing (no live plot)\n",
    "fig, ax = plt.subplots()\n",
    "ax.yaxis.set_major_locator(MaxNLocator(integer=True))\n",
    "ax.xaxis.set_major_locator(MaxNLocator(integer=True))"
   ]
  },
  {
   "cell_type": "code",
   "execution_count": 8,
   "metadata": {},
   "outputs": [
    {
     "name": "stdout",
     "output_type": "stream",
     "text": [
      "Got weird response: 0x60\n",
      "Got weird response: 0x60\n",
      "Got weird response: 0x60\n",
      "Got weird response: 0x65\n",
      "Got weird response: 0x07\n",
      "Got weird response: 0x60\n",
      "Got weird response: 0x04\n",
      "Got weird response: 0x06\n",
      "Got weird response: 0x07\n",
      "Got weird response: 0x60\n",
      "Got weird response: 0x60\n",
      "Got weird response: 0xca\n",
      "Got weird response: 0x93\n",
      "Got weird response: 0xd3\n",
      "Got weird response: 0x60\n",
      "Got weird response: 0x60\n",
      "Got weird response: 0x60\n",
      "Got weird response: 0x6d\n"
     ]
    }
   ],
   "source": [
    "BREAK_ON_HALF_SUCCESS = False\n",
    "BREAK_ON_SUCCESS = False\n",
    "for glitch_setting in gc.rand_glitch_values_inf():\n",
    "\t[ext_offset, width, voltage] = glitch_setting\n",
    "\tif not gc.check_width(width, glitcher.prep_voltage, voltage):\n",
    "\t\tprint(f'Skipping width {width} and voltage {voltage} as it is too small to achieve the required voltage drop')\n",
    "\t\tax.plot(width, voltage, 'Xg')\n",
    "\t\tcontinue\n",
    "\ttry:\n",
    "\t\tread_result, read_data = glitcher.glitch_mul(glitch_setting)\n",
    "\t\tgc.add_result(glitch_setting, read_result)\n",
    "\n",
    "\t\tax.plot(width, voltage, read_result)\n",
    "\t\tfig.canvas.draw() # Guarantees live update of the plot whenever a new point is added\n",
    "\n",
    "\t\tif read_result == GlitchResult.WEIRD:\n",
    "\t\t\tprint(f'Got weird response: 0x{read_data.hex()}')\n",
    "\t\tif read_result == GlitchResult.HALF_SUCCESS:\n",
    "\t\t\t# print(f'HALF SUCCESS!')\n",
    "\t\t\t# print(f'\\tParameters: prep_voltage {glitcher.prep_voltage}, ext_offset {ext_offset}, width {width} and voltage {voltage}')\n",
    "\t\t\tif BREAK_ON_HALF_SUCCESS:\n",
    "\t\t\t\tbreak # Stop before reset, so we can see on the oscilloscope\n",
    "\t\tif read_result == GlitchResult.SUCCESS:\n",
    "\t\t\t[successes, result_a, result_b] = read_data\n",
    "\t\t\t# print(f'SUCCESS! With {successes} successful glitche(s), {result_a} != {result_b}')\n",
    "\t\t\t# print(f'\\tParameters: prep_voltage {glitcher.prep_voltage}, ext_offset {ext_offset}, width {width} and voltage {voltage}')\n",
    "\t\t\tif BREAK_ON_SUCCESS:\n",
    "\t\t\t\tbreak\n",
    "\n",
    "\t\tif read_result in [GlitchResult.RESET, GlitchResult.BROKEN, GlitchResult.HALF_SUCCESS]:\n",
    "\t\t\treset_target(ps, glitcher)\n",
    "\texcept KeyboardInterrupt:\n",
    "\t\tfig.canvas.draw()\n",
    "\t\tbreak # Gentle stop, otherwise the plot might look empty"
   ]
  },
  {
   "cell_type": "code",
   "execution_count": 9,
   "metadata": {},
   "outputs": [],
   "source": [
    "ps.on=False"
   ]
  },
  {
   "cell_type": "code",
   "execution_count": null,
   "metadata": {},
   "outputs": [],
   "source": [
    "print(f'HALF SUCCESS! Width {width}, voltage {voltage} and prep_voltage {glitcher.prep_voltage}')\n",
    "reset_target(ps, glitcher)"
   ]
  }
 ],
 "metadata": {
  "kernelspec": {
   "display_name": "venv-thesis",
   "language": "python",
   "name": "python3"
  },
  "language_info": {
   "codemirror_mode": {
    "name": "ipython",
    "version": 3
   },
   "file_extension": ".py",
   "mimetype": "text/x-python",
   "name": "python",
   "nbconvert_exporter": "python",
   "pygments_lexer": "ipython3",
   "version": "3.12.4"
  }
 },
 "nbformat": 4,
 "nbformat_minor": 2
}
