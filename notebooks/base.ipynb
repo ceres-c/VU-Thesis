{
 "cells": [
  {
   "cell_type": "markdown",
   "metadata": {},
   "source": [
    "# Picocoder\n",
    "_A Raspberry Pi Pico microcode glitcher_\n",
    "\n",
    "## Connection\n",
    "We connect with the Pi Pico and setup some glitching options."
   ]
  },
  {
   "cell_type": "code",
   "execution_count": 1,
   "metadata": {},
   "outputs": [],
   "source": [
    "%matplotlib widget\n",
    "\n",
    "POWERSUPPLY_PORT = '/dev/ttyACM0'\n",
    "GLITCHER_PORT = '/dev/ttyACM1'\n",
    "GLITCHER_BAUD = 115200\n",
    "\n",
    "import pathlib\n",
    "import sys\n",
    "import os\n",
    "import matplotlib.pyplot as plt\n",
    "from importlib import reload # for debugging\n",
    "\n",
    "sys.path.append(str(pathlib.Path(os.getcwd()).parent))\n",
    "\n",
    "import picocoder_py\n",
    "from picocoder_py import Picocoder, GlitchResult\n",
    "from picocoder_py import PowerSupply, KA3305P\n",
    "glitch_utils = reload(picocoder_py)\n",
    "\n",
    "try:\n",
    "\tdel ps\n",
    "\tdel glitcher\n",
    "\tdel gc\n",
    "except:\n",
    "\tpass\n",
    "ps = KA3305P(port=POWERSUPPLY_PORT, cycle_wait=0.5)\n",
    "ps.con()\n",
    "ps.power_cycle()\n",
    "\n",
    "glitcher = Picocoder(GLITCHER_PORT, GLITCHER_BAUD)\n",
    "if not glitcher.ping():\n",
    "\traise Exception(\"Glitcher not responding\")\n",
    "if not glitcher.ping_target():\n",
    "\traise Exception(\"Target not responding\")\n",
    "\n",
    "def reset_target(ps: PowerSupply, glitcher: Picocoder) -> None:\n",
    "\tps.power_cycle()\n",
    "\tif not glitcher.ping_target():\n",
    "\t\traise Exception(\"Target not responding after reset\")"
   ]
  },
  {
   "cell_type": "markdown",
   "metadata": {},
   "source": [
    "## Measure the duration of opcode loop\n",
    "We obtain an estimate (in us) of the loop where the opcode is executed, which\n",
    "is an upper bound for ext_offset+width.\n",
    "\n",
    "This is calculated by measuring the number of microseconds between two\n",
    "consecutive bytes received by the glitcher from the t arget, and subtracting\n",
    "the time between the first UART pulse appears on the channel, and when the\n",
    "glitcher detects an incoming byte. It is therefore expected to be less than\n",
    "the actual duration of the opcode loop."
   ]
  },
  {
   "cell_type": "code",
   "execution_count": 2,
   "metadata": {},
   "outputs": [
    {
     "name": "stdout",
     "output_type": "stream",
     "text": [
      "Measured total duration: 383\n"
     ]
    }
   ],
   "source": [
    "max_total_duration = glitcher.measure_loop_duration()\n",
    "if max_total_duration < 0:\n",
    "\traise Exception(f'Invalid duration {max_total_duration}')\n",
    "print(f\"Measured total duration: {max_total_duration}\")"
   ]
  },
  {
   "cell_type": "markdown",
   "metadata": {},
   "source": [
    "## Measure UART delay\n",
    "This command is used to measure (externally) the time it takes for the Pico to\n",
    "detect data on the UART RX pin and to start processing it. <br>\n",
    "The debug pin (GPIO 16, shown blue) is toggled when the Pico detects data.\n",
    "\n",
    "![Oscilloscope capture](../firmware/inject_v2/img/fast_response_time_busy_wait_on_UART_with_timeout.png)"
   ]
  },
  {
   "cell_type": "code",
   "execution_count": null,
   "metadata": {},
   "outputs": [],
   "source": [
    "glitcher.uart_toggle_debug_pin()"
   ]
  },
  {
   "cell_type": "markdown",
   "metadata": {},
   "source": [
    "## Estimate $V_p$ for `cmp`"
   ]
  },
  {
   "cell_type": "code",
   "execution_count": 3,
   "metadata": {},
   "outputs": [
    {
     "data": {
      "application/vnd.jupyter.widget-view+json": {
       "model_id": "d95bdfd5e93f483bab3c4c0d453f12df",
       "version_major": 2,
       "version_minor": 0
      },
      "image/png": "[encoded data removed]",
      "text/html": [
       "\n",
       "            <div style=\"display: inline-block;\">\n",
       "                <div class=\"jupyter-widgets widget-label\" style=\"text-align: center;\">\n",
       "                    Figure\n",
       "                </div>\n",
       "                <img src='data:image/png;base64,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' width=640.0/>\n",
       "            </div>\n",
       "        "
      ],
      "text/plain": [
       "Canvas(toolbar=Toolbar(toolitems=[('Home', 'Reset original view', 'home', 'home'), ('Back', 'Back to previous …"
      ]
     },
     "metadata": {},
     "output_type": "display_data"
    }
   ],
   "source": [
    "glitcher.tc = picocoder_py.TargetCmp()\n",
    "gc_vp_cmp = glitch_utils.GlitchControllerTPS65094(groups=[r.name for r in GlitchResult], parameters=['ext_offset', 'width', 'voltage', 'prep_voltage'], nominal_voltage=1.24) # Nominal voltage after boot completes\n",
    "gc_vp_cmp.set_range('ext_offset', 90, 150)\n",
    "gc_vp_cmp.set_range('width', 10, 30)\n",
    "gc_vp_cmp.set_range('prep_voltage', 36, 40)\n",
    "gc_vp_cmp.set_range('voltage', 33, 35)\n",
    "\n",
    "gc_vp_cmp.draw_graph('ext_offset', 'prep_voltage')"
   ]
  },
  {
   "cell_type": "code",
   "execution_count": 5,
   "metadata": {},
   "outputs": [],
   "source": [
    "for gs in gc_vp_cmp.rand_glitch_values():\n",
    "\ttry:\n",
    "\t\tresult, data = glitcher.glitch(gs)\n",
    "\t\tgc_vp_cmp.add_result(gs, result, data)\n",
    "\n",
    "\t\tif result == GlitchResult.WEIRD:\n",
    "\t\t\tprint(f'Got weird response: 0x{data.hex()}') # type: ignore\n",
    "\t\tif result in [GlitchResult.RESET, GlitchResult.BROKEN, GlitchResult.HALF_SUCCESS]:\n",
    "\t\t\treset_target(ps, glitcher)\n",
    "\texcept KeyboardInterrupt:\n",
    "\t\tgc_vp_cmp.redraw_graph()\n",
    "\t\tbreak # Gentle stop, otherwise the plot might look empty"
   ]
  },
  {
   "cell_type": "markdown",
   "metadata": {},
   "source": [
    "## Glitch `cmp`"
   ]
  },
  {
   "cell_type": "code",
   "execution_count": 6,
   "metadata": {},
   "outputs": [
    {
     "data": {
      "application/vnd.jupyter.widget-view+json": {
       "model_id": "0d1bdb3f0a4b4d5cb8ed8e9881d5aa8e",
       "version_major": 2,
       "version_minor": 0
      },
      "image/png": "[encoded data removed]",
      "text/html": [
       "\n",
       "            <div style=\"display: inline-block;\">\n",
       "                <div class=\"jupyter-widgets widget-label\" style=\"text-align: center;\">\n",
       "                    Figure\n",
       "                </div>\n",
       "                <img src='data:image/png;base64,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' width=640.0/>\n",
       "            </div>\n",
       "        "
      ],
      "text/plain": [
       "Canvas(toolbar=Toolbar(toolitems=[('Home', 'Reset original view', 'home', 'home'), ('Back', 'Back to previous …"
      ]
     },
     "metadata": {},
     "output_type": "display_data"
    }
   ],
   "source": [
    "glitcher.tc = picocoder_py.TargetCmp()\n",
    "gc_cmp = glitch_utils.GlitchControllerTPS65094(groups=[r.name for r in GlitchResult], parameters=['ext_offset', 'width', 'voltage', 'prep_voltage'], nominal_voltage=1.24) # Nominal voltage after boot completes\n",
    "gc_cmp.set_range('ext_offset', 90, 150)\n",
    "gc_cmp.set_range('width', 10, 30)\n",
    "gc_cmp.set_range('voltage', 35, 35)\n",
    "gc_cmp.set_range('prep_voltage', 36, 36)\n",
    "\n",
    "gc_cmp.draw_graph('width', 'voltage')"
   ]
  },
  {
   "cell_type": "code",
   "execution_count": 7,
   "metadata": {},
   "outputs": [],
   "source": [
    "BREAK_ON_HALF_SUCCESS = False\n",
    "BREAK_ON_SUCCESS = False\n",
    "for gs in gc_cmp.rand_glitch_values():\n",
    "\ttry:\n",
    "\t\tresult, data = glitcher.glitch(gs)\n",
    "\t\tgc_cmp.add_result(gs, result, data)\n",
    "\n",
    "\t\tif result == GlitchResult.WEIRD:\n",
    "\t\t\tprint(f'Got weird response: 0x{data.hex()}') # type: ignore\n",
    "\t\tif result in [GlitchResult.RESET, GlitchResult.BROKEN, GlitchResult.HALF_SUCCESS]:\n",
    "\t\t\treset_target(ps, glitcher)\n",
    "\texcept KeyboardInterrupt:\n",
    "\t\tgc_cmp.redraw_graph()\n",
    "\t\tbreak # Gentle stop, otherwise the plot might look empty"
   ]
  },
  {
   "cell_type": "markdown",
   "metadata": {},
   "source": [
    "# TODO FINISH PORTING TO NEW CODE"
   ]
  },
  {
   "cell_type": "markdown",
   "metadata": {},
   "source": [
    "## Estimate $V_p$ for `mul`"
   ]
  },
  {
   "cell_type": "code",
   "execution_count": null,
   "metadata": {},
   "outputs": [],
   "source": [
    "glitcher.tc = 'mul'\n",
    "gc_vp_mul = glitch_utils.GlitchControllerTPS65094(groups=[r.name for r in GlitchResult], parameters=['ext_offset', 'width', 'voltage', 'prep_voltage'], nominal_voltage=1.24) # Nominal voltage after boot completes\n",
    "gc_vp_mul.set_range('ext_offset', 90, 150) # 477-250, 477-200 working with muls\n",
    "gc_vp_mul.set_range('width', 61, 61)\n",
    "gc_vp_mul.set_range('prep_voltage', 0b0011010, 0b0101010) # 0.91V - See Table 6-3 in TPS65094 datasheet\n",
    "gc_vp_mul.set_range('voltage', 0b1000111, 0b1000111) # 1.2V - See Table 6-3 in TPS65094 datasheet\n",
    "\n",
    "gc_vp_mul.draw_graph('ext_offset', 'prep_voltage')"
   ]
  },
  {
   "cell_type": "code",
   "execution_count": null,
   "metadata": {},
   "outputs": [],
   "source": [
    "BREAK_ON_HALF_SUCCESS = False\n",
    "BREAK_ON_SUCCESS = False\n",
    "for gs in gc_vp_mul.rand_glitch_values():\n",
    "\ttry:\n",
    "\n",
    "\t\tresult, read_data = glitcher.glitch_mul(gs)\n",
    "\t\tgc_vp_mul.add_result(gs, result, read_data)\n",
    "\n",
    "\t\tif result == GlitchResult.WEIRD:\n",
    "\t\t\tprint(f'Got weird response: 0x{read_data.hex()}')\n",
    "\t\tif result == GlitchResult.HALF_SUCCESS:\n",
    "\t\t\t# print(f'HALF SUCCESS!')\n",
    "\t\t\t# print(f'\\tParameters: prep_voltage {glitcher.prep_voltage}, ext_offset {gs[\"ext_offset\"]}, width {gs[\"width\"]} and voltage {gs[\"voltage\"]}')\n",
    "\t\t\tif BREAK_ON_HALF_SUCCESS:\n",
    "\t\t\t\tbreak # Stop before reset, so we can see on the oscilloscope\n",
    "\t\tif result == GlitchResult.SUCCESS:\n",
    "\t\t\t[successes, result_a, result_b] = read_data\n",
    "\t\t\tprint(f'SUCCESS! With {successes} successful glitche(s), {result_a} != {result_b}')\n",
    "\t\t\tprint(f'\\tParameters: prep_voltage {glitcher.prep_voltage}, ext_offset {gs[\"ext_offset\"]}, width {gs[\"width\"]} and voltage {gs[\"voltage\"]}')\n",
    "\t\t\tif BREAK_ON_SUCCESS:\n",
    "\t\t\t\tbreak\n",
    "\n",
    "\t\tif result in [GlitchResult.RESET, GlitchResult.BROKEN, GlitchResult.HALF_SUCCESS]:\n",
    "\t\t\treset_target(ps, glitcher)\n",
    "\texcept KeyboardInterrupt:\n",
    "\t\tgc_vp_mul.redraw_graph()\n",
    "\t\tbreak # Gentle stop, otherwise the plot might look empty"
   ]
  },
  {
   "cell_type": "markdown",
   "metadata": {},
   "source": [
    "## Glitch `mul`"
   ]
  },
  {
   "cell_type": "code",
   "execution_count": null,
   "metadata": {},
   "outputs": [],
   "source": [
    "gc_mul = glitch_utils.GlitchControllerTPS65094(groups=[r.name for r in GlitchResult], parameters=['ext_offset', 'width', 'voltage', 'prep_voltage'], nominal_voltage=1.24) # Nominal voltage after boot completes\n",
    "gc_mul.set_range('ext_offset', 10, 100) # 477-250, 477-200 working with muls\n",
    "gc_mul.set_range('width', 1, 100)\n",
    "gc_mul.set_range('voltage', 28, 34) # 0.79V-0.83V - See Table 6-3 in TPS65094 datasheet\n",
    "gc_mul.set_range('prep_voltage', 0b0101010, 0b0101010) # 0.91V - See Table 6-3 in TPS65094 datasheet\n",
    "\n",
    "gc_mul.draw_graph('width', 'voltage')"
   ]
  },
  {
   "cell_type": "code",
   "execution_count": null,
   "metadata": {},
   "outputs": [],
   "source": [
    "BREAK_ON_HALF_SUCCESS = False\n",
    "BREAK_ON_SUCCESS = False\n",
    "for gs in gc_mul.rand_glitch_values():\n",
    "\ttry:\n",
    "\n",
    "\t\tresult, read_data = glitcher.glitch_mul(gs)\n",
    "\t\tgc_mul.add_result(gs, result, read_data)\n",
    "\n",
    "\t\tif result == GlitchResult.WEIRD:\n",
    "\t\t\tprint(f'Got weird response: 0x{read_data.hex()}')\n",
    "\t\tif result == GlitchResult.HALF_SUCCESS:\n",
    "\t\t\t# print(f'HALF SUCCESS!')\n",
    "\t\t\t# print(f'\\tParameters: prep_voltage {glitcher.prep_voltage}, ext_offset {gs[\"ext_offset\"]}, width {gs[\"width\"]} and voltage {gs[\"voltage\"]}')\n",
    "\t\t\tif BREAK_ON_HALF_SUCCESS:\n",
    "\t\t\t\tbreak # Stop before reset, so we can see on the oscilloscope\n",
    "\t\tif result == GlitchResult.SUCCESS:\n",
    "\t\t\t[successes, result_a, result_b] = read_data\n",
    "\t\t\tprint(f'SUCCESS! With {successes} successful glitche(s), {result_a} != {result_b}')\n",
    "\t\t\tprint(f'\\tParameters: prep_voltage {glitcher.prep_voltage}, ext_offset {gs[\"ext_offset\"]}, width {gs[\"width\"]} and voltage {gs[\"voltage\"]}')\n",
    "\t\t\tif BREAK_ON_SUCCESS:\n",
    "\t\t\t\tbreak\n",
    "\n",
    "\t\tif result in [GlitchResult.RESET, GlitchResult.BROKEN, GlitchResult.HALF_SUCCESS]:\n",
    "\t\t\treset_target(ps, glitcher)\n",
    "\texcept KeyboardInterrupt:\n",
    "\t\tgc_mul.redraw_graph()\n",
    "\t\tbreak # Gentle stop, otherwise the plot might look empty"
   ]
  },
  {
   "cell_type": "markdown",
   "metadata": {},
   "source": [
    "## Estimate $V_p$ for `load`"
   ]
  },
  {
   "cell_type": "code",
   "execution_count": null,
   "metadata": {},
   "outputs": [],
   "source": [
    "glitcher.tc = 'load'\n",
    "gc_vp_load = glitch_utils.GlitchControllerTPS65094(groups=[r.name for r in GlitchResult], parameters=['ext_offset', 'width', 'voltage', 'prep_voltage'], nominal_voltage=1.24) # Nominal voltage after boot completes\n",
    "gc_vp_load.set_range('ext_offset', 90, 150) # 477-250, 477-200 working with muls\n",
    "gc_vp_load.set_range('width', 61, 61)\n",
    "gc_vp_load.set_range('prep_voltage', 0b0011010, 0b0101010) # 0.91V - See Table 6-3 in TPS65094 datasheet\n",
    "gc_vp_load.set_range('voltage', 0b1000111, 0b1000111) # 1.2V - See Table 6-3 in TPS65094 datasheet\n",
    "\n",
    "gc_vp_load.draw_graph('ext_offset', 'prep_voltage')"
   ]
  },
  {
   "cell_type": "code",
   "execution_count": null,
   "metadata": {},
   "outputs": [],
   "source": [
    "BREAK_ON_HALF_SUCCESS = False\n",
    "BREAK_ON_SUCCESS = False\n",
    "for gs in gc_vp_load.rand_glitch_values():\n",
    "\ttry:\n",
    "\n",
    "\t\tresult, read_data = glitcher.glitch_load(gs)\n",
    "\t\tgc_vp_load.add_result(gs, result, read_data)\n",
    "\n",
    "\t\tif result == GlitchResult.WEIRD:\n",
    "\t\t\tprint(f'Got weird response: 0x{read_data.hex()}')\n",
    "\t\tif result == GlitchResult.HALF_SUCCESS:\n",
    "\t\t\t# print(f'HALF SUCCESS!')\n",
    "\t\t\t# print(f'\\tParameters: prep_voltage {glitcher.prep_voltage}, ext_offset {gs[\"ext_offset\"]}, width {gs[\"width\"]} and voltage {gs[\"voltage\"]}')\n",
    "\t\t\tif BREAK_ON_HALF_SUCCESS:\n",
    "\t\t\t\tbreak # Stop before reset, so we can see on the oscilloscope\n",
    "\t\tif result == GlitchResult.SUCCESS:\n",
    "\t\t\tsuccesses = read_data\n",
    "\t\t\tprint(f'SUCCESS! With {successes} successful glitche(s)')\n",
    "\t\t\tprint(f'\\tParameters: prep_voltage {glitcher.prep_voltage}, ext_offset {gs[\"ext_offset\"]}, width {gs[\"width\"]} and voltage {gs[\"voltage\"]}')\n",
    "\t\t\tif BREAK_ON_SUCCESS:\n",
    "\t\t\t\tbreak\n",
    "\n",
    "\t\tif result in [GlitchResult.RESET, GlitchResult.BROKEN, GlitchResult.HALF_SUCCESS]:\n",
    "\t\t\treset_target(ps, glitcher)\n",
    "\texcept KeyboardInterrupt:\n",
    "\t\tgc_vp_load.redraw_graph()\n",
    "\t\tbreak # Gentle stop, otherwise the plot might look empty"
   ]
  },
  {
   "cell_type": "markdown",
   "metadata": {},
   "source": [
    "## Glitch `load`"
   ]
  },
  {
   "cell_type": "code",
   "execution_count": null,
   "metadata": {},
   "outputs": [],
   "source": [
    "gc_load = glitch_utils.GlitchControllerTPS65094(groups=[r.name for r in GlitchResult], parameters=['ext_offset', 'width', 'voltage', 'prep_voltage'], nominal_voltage=1.24) # Nominal voltage after boot completes\n",
    "gc_load.set_range('ext_offset', 90, 150) # 477-250, 477-200 working with muls\n",
    "gc_load.set_range('width', 1, 20)\n",
    "gc_load.set_range('voltage', 35, 35)\n",
    "gc_load.set_range('prep_voltage', 36, 36)\n",
    "\n",
    "gc_load.draw_graph('width', 'voltage')"
   ]
  },
  {
   "cell_type": "code",
   "execution_count": null,
   "metadata": {},
   "outputs": [],
   "source": [
    "BREAK_ON_HALF_SUCCESS = False\n",
    "BREAK_ON_SUCCESS = True\n",
    "for gs in gc_load.rand_glitch_values():\n",
    "\ttry:\n",
    "\n",
    "\t\tresult, read_data = glitcher.glitch_load(gs)\n",
    "\t\tgc_load.add_result(gs, result, read_data)\n",
    "\n",
    "\t\tif result == GlitchResult.WEIRD:\n",
    "\t\t\tprint(f'Got weird response: 0x{read_data.hex()}')\n",
    "\t\tif result == GlitchResult.HALF_SUCCESS:\n",
    "\t\t\t# print(f'HALF SUCCESS!')\n",
    "\t\t\t# print(f'\\tParameters: prep_voltage {glitcher.prep_voltage}, ext_offset {gs[\"ext_offset\"]}, width {gs[\"width\"]} and voltage {gs[\"voltage\"]}')\n",
    "\t\t\tif BREAK_ON_HALF_SUCCESS:\n",
    "\t\t\t\tbreak # Stop before reset, so we can see on the oscilloscope\n",
    "\t\tif result == GlitchResult.SUCCESS:\n",
    "\t\t\t(successes, wrong_value) = read_data\n",
    "\t\t\tprint(f'SUCCESS! With {successes} successful glitche(s). Last recorded wrong value was 0x{wrong_value:02X}')\n",
    "\t\t\tprint(f'\\tParameters: prep_voltage {glitcher.prep_voltage}, ext_offset {gs[\"ext_offset\"]}, width {gs[\"width\"]} and voltage {gs[\"voltage\"]}')\n",
    "\t\t\tif BREAK_ON_SUCCESS:\n",
    "\t\t\t\tbreak\n",
    "\n",
    "\t\tif result in [GlitchResult.RESET, GlitchResult.BROKEN, GlitchResult.HALF_SUCCESS]:\n",
    "\t\t\treset_target(ps, glitcher)\n",
    "\texcept KeyboardInterrupt:\n",
    "\t\tgc_load.redraw_graph()\n",
    "\t\tbreak # Gentle stop, otherwise the plot might look empty"
   ]
  },
  {
   "cell_type": "markdown",
   "metadata": {},
   "source": [
    "### Additional plot\n",
    "We can now separate the 3 VID levels we tested and see how the target behaves.\n",
    "Here we plot all the glitches, clustering them in 3 main groups:\n",
    "- green: normal operation\n",
    "- yellow: reset, weird, half success and broken\n",
    "- red: successful glitch"
   ]
  },
  {
   "cell_type": "code",
   "execution_count": null,
   "metadata": {},
   "outputs": [],
   "source": [
    "%matplotlib inline\n",
    "plt.clf()\n",
    "\n",
    "fig, ax = plt.subplots(ncols=2, nrows=2, layout=\"tight\")\n",
    "ax[0, 0].set_title('VID 34')\n",
    "ax[0, 1].set_title('VID 35')\n",
    "ax[1, 0].set_title('VID 36')\n",
    "\n",
    "simplify_color = { # Go from 6 different markers/colors to 3 for better visibility once we have a lot of data\n",
    "\tGlitchResult.RESET\t\t\t\t\t: 'sy', # Yellow\n",
    "\tGlitchResult.NORMAL\t\t\t\t\t: 'sg', # Green\n",
    "\tGlitchResult.WEIRD\t\t\t\t\t: 'sy', # Yellow\n",
    "\tGlitchResult.SUCCESS\t\t\t\t: 'sr', # Red\n",
    "\tGlitchResult.HALF_SUCCESS\t\t\t: 'sy', # Yellow\n",
    "\tGlitchResult.BROKEN\t\t\t\t\t: 'sy', # Yellow\n",
    "}\n",
    "\n",
    "for glitch_values, result in gc_load.results:\n",
    "\tif glitch_values['voltage'] == 34:\n",
    "\t\tax[0, 0].plot(glitch_values['width'], glitch_values['ext_offset'], simplify_color[result], alpha=0.1 if result != GlitchResult.SUCCESS else 0.5)\n",
    "\tif glitch_values['voltage'] == 35:\n",
    "\t\tax[0, 1].plot(glitch_values['width'], glitch_values['ext_offset'], simplify_color[result], alpha=0.1 if result != GlitchResult.SUCCESS else 0.5)\n",
    "\tif glitch_values['voltage'] == 36:\n",
    "\t\tax[1, 0].plot(glitch_values['width'], glitch_values['ext_offset'], simplify_color[result], alpha=0.1 if result != GlitchResult.SUCCESS else 0.5)"
   ]
  },
  {
   "cell_type": "markdown",
   "metadata": {},
   "source": [
    "And here we only plot non-normal iterations, as we mostly care about where\n",
    "abnormal behavior happens. We can see from both this and the previous graph\n",
    "that we are interested in VID 35 and that we want to expand the width range\n",
    "to the right."
   ]
  },
  {
   "cell_type": "code",
   "execution_count": null,
   "metadata": {},
   "outputs": [],
   "source": [
    "fig, ax = plt.subplots(ncols=2, nrows=2, layout=\"tight\")\n",
    "ax[0, 0].set_title('VID 34')\n",
    "ax[0, 1].set_title('VID 35')\n",
    "ax[1, 0].set_title('VID 36')\n",
    "\n",
    "for glitch_values, result in gc_load.results:\n",
    "\tif result == GlitchResult.NORMAL:\n",
    "\t\tcontinue\n",
    "\tif glitch_values['voltage'] == 34:\n",
    "\t\tax[0, 0].plot(glitch_values['width'], glitch_values['ext_offset'], simplify_color[result], alpha=0.1 if result != GlitchResult.SUCCESS else 0.5)\n",
    "\tif glitch_values['voltage'] == 35:\n",
    "\t\tax[0, 1].plot(glitch_values['width'], glitch_values['ext_offset'], simplify_color[result], alpha=0.1 if result != GlitchResult.SUCCESS else 0.5)\n",
    "\tif glitch_values['voltage'] == 36:\n",
    "\t\tax[1, 0].plot(glitch_values['width'], glitch_values['ext_offset'], simplify_color[result], alpha=0.1 if result != GlitchResult.SUCCESS else 0.5)"
   ]
  },
  {
   "cell_type": "markdown",
   "metadata": {},
   "source": [
    "## Estimate $V_p$ for custom microcoded `rcx += rax - rbx`"
   ]
  },
  {
   "cell_type": "code",
   "execution_count": null,
   "metadata": {},
   "outputs": [],
   "source": [
    "glitcher.tc = 'rdrand'\n",
    "gc_vp_ucode = glitch_utils.GlitchControllerTPS65094(groups=[r.name for r in GlitchResult], parameters=['ext_offset', 'width', 'voltage', 'prep_voltage'], nominal_voltage=1.24) # Nominal voltage after boot completes\n",
    "gc_vp_ucode.set_range('ext_offset', 150, 200) # 477-250, 477-200 working with muls\n",
    "gc_vp_ucode.set_range('width', 61, 61)\n",
    "gc_vp_ucode.set_range('prep_voltage', 0b0011010, 0b0101010) # 0.91V - See Table 6-3 in TPS65094 datasheet\n",
    "gc_vp_ucode.set_range('voltage', 0b1000111, 0b1000111) # 1.2V - See Table 6-3 in TPS65094 datasheet\n",
    "\n",
    "gc_vp_ucode.draw_graph('ext_offset', 'prep_voltage')"
   ]
  },
  {
   "cell_type": "code",
   "execution_count": null,
   "metadata": {},
   "outputs": [],
   "source": [
    "BREAK_ON_HALF_SUCCESS = False\n",
    "BREAK_ON_SUCCESS = False\n",
    "for gs in gc_vp_ucode.rand_glitch_values():\n",
    "\ttry:\n",
    "\n",
    "\t\tresult, read_data = glitcher.glitch_cmp(gs)\n",
    "\t\tgc_vp_ucode.add_result(gs, result, read_data)\n",
    "\n",
    "\t\tif result == GlitchResult.WEIRD:\n",
    "\t\t\tprint(f'Got weird response: 0x{read_data.hex()}')\n",
    "\t\tif result == GlitchResult.HALF_SUCCESS:\n",
    "\t\t\t# print(f'HALF SUCCESS!')\n",
    "\t\t\t# print(f'\\tParameters: prep_voltage {glitcher.prep_voltage}, ext_offset {gs[\"ext_offset\"]}, width {gs[\"width\"]} and voltage {gs[\"voltage\"]}')\n",
    "\t\t\tif BREAK_ON_HALF_SUCCESS:\n",
    "\t\t\t\tbreak # Stop before reset, so we can see on the oscilloscope\n",
    "\t\tif result == GlitchResult.SUCCESS:\n",
    "\t\t\tsuccesses = read_data\n",
    "\t\t\tprint(f'SUCCESS! With {successes} successful glitche(s)')\n",
    "\t\t\tprint(f'\\tParameters: prep_voltage {glitcher.prep_voltage}, ext_offset {gs[\"ext_offset\"]}, width {gs[\"width\"]} and voltage {gs[\"voltage\"]}')\n",
    "\t\t\tif BREAK_ON_SUCCESS:\n",
    "\t\t\t\tbreak\n",
    "\n",
    "\t\tif result in [GlitchResult.RESET, GlitchResult.BROKEN, GlitchResult.HALF_SUCCESS]:\n",
    "\t\t\treset_target(ps, glitcher)\n",
    "\texcept KeyboardInterrupt:\n",
    "\t\tgc_vp_ucode.redraw_graph()\n",
    "\t\tbreak # Gentle stop, otherwise the plot might look empty"
   ]
  }
 ],
 "metadata": {
  "kernelspec": {
   "display_name": "venv-thesis",
   "language": "python",
   "name": "python3"
  },
  "language_info": {
   "codemirror_mode": {
    "name": "ipython",
    "version": 3
   },
   "file_extension": ".py",
   "mimetype": "text/x-python",
   "name": "python",
   "nbconvert_exporter": "python",
   "pygments_lexer": "ipython3",
   "version": "3.12.4"
  }
 },
 "nbformat": 4,
 "nbformat_minor": 2
}
