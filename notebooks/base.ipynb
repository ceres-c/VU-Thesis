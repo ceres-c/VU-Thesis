{
 "cells": [
  {
   "cell_type": "markdown",
   "metadata": {},
   "source": [
    "# Picocoder\n",
    "_A Raspberry Pi Pico microcode glitcher_\n",
    "\n",
    "## Connection\n",
    "We connect with the Pi Pico and setup some glitching options."
   ]
  },
  {
   "cell_type": "code",
   "execution_count": null,
   "metadata": {},
   "outputs": [],
   "source": [
    "%matplotlib widget\n",
    "\n",
    "POWERSUPPLY_PORT = '/dev/ttyACM0'\n",
    "GLITCHER_PORT = '/dev/ttyACM1'\n",
    "GLITCHER_BAUD = 115200\n",
    "\n",
    "import struct\n",
    "import time\n",
    "import matplotlib.pyplot as plt\n",
    "from matplotlib.ticker import MaxNLocator\n",
    "from importlib import reload # for debugging\n",
    "\n",
    "import glitch_utils\n",
    "from glitch_utils import GlitchyMcGlitchFace, GlitchResult\n",
    "from power_supply import PowerSupply, KA3305P\n",
    "glitch_utils = reload(glitch_utils)\n",
    "\n",
    "try:\n",
    "\tdel ps\n",
    "\tdel glitcher\n",
    "\tdel gc\n",
    "except:\n",
    "\tpass\n",
    "ps = KA3305P(port=POWERSUPPLY_PORT)\n",
    "ps.con()\n",
    "ps.power_cycle()\n",
    "\n",
    "glitcher = glitch_utils.GlitchyMcGlitchFace(GLITCHER_PORT, GLITCHER_BAUD)\n",
    "if not glitcher.ping():\n",
    "\traise Exception(\"Glitcher not responding\")\n",
    "if not glitcher.ping_target():\n",
    "\traise Exception(\"Target not responding\")\n",
    "\n",
    "gc = glitch_utils.GlitchController(groups=[r.name for r in GlitchResult], parameters=['ext_offset', 'width', 'voltage'])\n",
    "gc.set_range('ext_offset', 1, 10)\n",
    "gc.set_range('width', 1, 10)\n",
    "gc.set_range('voltage', 0b0110011, 0b1001011) # 1V-1.24V - See Table 6-3 in TPS65094 datasheet\n",
    "\n",
    "def reset_target(ps: PowerSupply, glitcher: GlitchyMcGlitchFace, timeout: float = 1.5) -> bool:\n",
    "\tps.power_cycle()\n",
    "\treturn glitcher.ping_target(timeout)"
   ]
  },
  {
   "cell_type": "markdown",
   "metadata": {},
   "source": [
    "## Estimating glitch external offset\n",
    "We obtain an estimate (in us) of the wait time between trigger and glitch."
   ]
  },
  {
   "cell_type": "code",
   "execution_count": null,
   "metadata": {},
   "outputs": [],
   "source": [
    "glitcher.s.write(glitch_utils.P_CMD_ESTIMATE_OFFSET)\n",
    "ret_data = glitcher.s.read(4)\n",
    "ext_offset = struct.unpack(\"<i\", ret_data)[0]\n",
    "gc.set_range('ext_offset', ext_offset-20, ext_offset+10)\n",
    "print(f\"Estimated offset: {ext_offset}\")"
   ]
  },
  {
   "cell_type": "markdown",
   "metadata": {},
   "source": [
    "## Measure UART delay\n",
    "This command is used to measure (externally) the time it takes for the Pico to\n",
    "detect data on the UART RX pin and to start processing it. <br>\n",
    "The debug pin (GPIO 16, shown blue) is toggled when the Pico detects data.\n",
    "\n",
    "![Oscilloscope capture](../firmware/inject_v2/img/fast_response_time_busy_wait_on_UART_with_timeout.png)"
   ]
  },
  {
   "cell_type": "code",
   "execution_count": null,
   "metadata": {},
   "outputs": [],
   "source": [
    "glitcher.s.write(glitch_utils.P_CMD_UART_DEBUG_TOGGLE)\n",
    "ret_data = glitcher.s.read(4)\n",
    "result = (bool)(struct.unpack(\"<I\", ret_data)[0])\n",
    "print(f\"Found trigger: {result}\")"
   ]
  },
  {
   "cell_type": "markdown",
   "metadata": {},
   "source": [
    "## Voltage range\n",
    "\n",
    "Find where the CPU starts to stall"
   ]
  },
  {
   "cell_type": "code",
   "execution_count": null,
   "metadata": {},
   "outputs": [],
   "source": [
    "# glitcher.voltage = 0b0110011 # 1V\n",
    "glitcher.voltage = 0b1000101 # 1.18V\n",
    "glitcher.width = 100\n",
    "glitcher.s.reset_input_buffer() # Clear any pending data, just in case\n",
    "glitcher.s.write(glitch_utils.P_CMD_VOLT_TEST)\n",
    "\n",
    "read_result = glitcher.s.read(4)\n",
    "read_result = struct.unpack(\"<i\", read_result)[0]\n",
    "print(f\"Received: {read_result}\")\n",
    "pt = glitcher.ping_target(0)\n",
    "if not pt:\n",
    "\treset_target(ps, glitcher)\n"
   ]
  },
  {
   "cell_type": "code",
   "execution_count": null,
   "metadata": {},
   "outputs": [],
   "source": [
    "# NOTE This figure must be generated in a different cell than the one that calls the plot function\n",
    "#\t   Otherwise the plot will not be displayed until the cell is done executing (no live plot)\n",
    "fig, ax = plt.subplots()\n",
    "ax.yaxis.set_major_locator(MaxNLocator(integer=True)) # Number of bytes received by the glitcher\n",
    "ax.xaxis.set_major_locator(MaxNLocator(integer=True)) # Voltage"
   ]
  },
  {
   "cell_type": "code",
   "execution_count": null,
   "metadata": {},
   "outputs": [],
   "source": [
    "# def get_voltage_test_marker(result, expected_count = glitch_utils.VOLT_TEST_MSG_COUNT) -> str:\n",
    "# \tif result < 0:\n",
    "# \t\treturn 'xr'\n",
    "# \telif result < expected_count:\n",
    "# \t\treturn '<y'\n",
    "# \telse:\n",
    "# \t\treturn '1b'\n",
    "\n",
    "# try:\n",
    "# \tfor glitch_setting in gc.rand_glitch_values():\n",
    "# \t\t[_, _, voltage] = [*glitch_setting]\n",
    "# \t\tglitcher.voltage = voltage\n",
    "\n",
    "# \t\tglitcher.s.reset_input_buffer() # Clear any pending data, just in case\n",
    "# \t\tglitcher.s.write(glitch_utils.P_CMD_VOLT_TEST)\n",
    "\n",
    "# \t\tread_result = glitcher.s.read(4)\n",
    "# \t\tread_result = struct.unpack(\"<i\", read_result)[0]\n",
    "\n",
    "# \t\tax.plot(voltage, read_result, get_voltage_test_marker(read_result))\n",
    "# \t\tfig.canvas.draw() # Guarantees live update of the plot whenever a new point is added\n",
    "# except KeyboardInterrupt:\n",
    "# \tpass # Gentle stop, otherwise the plot might look empty"
   ]
  },
  {
   "cell_type": "markdown",
   "metadata": {},
   "source": [
    "## Glitch loop"
   ]
  },
  {
   "cell_type": "code",
   "execution_count": null,
   "metadata": {},
   "outputs": [],
   "source": [
    "# NOTE This figure must be generated in a different cell than the one that calls the plot function\n",
    "#\t   Otherwise the plot will not be displayed until the cell is done executing (no live plot)\n",
    "fig, ax = plt.subplots()\n",
    "ax.yaxis.set_major_locator(MaxNLocator(integer=True))\n",
    "ax.xaxis.set_major_locator(MaxNLocator(integer=True))"
   ]
  },
  {
   "cell_type": "code",
   "execution_count": null,
   "metadata": {},
   "outputs": [],
   "source": [
    "try:\n",
    "\tfor glitch_setting in gc.rand_glitch_values():\n",
    "\t\tread_result, read_data = glitcher.glitch_mul(glitch_setting, expected=0x1337)\n",
    "\t\tgc.add_result(glitch_setting, read_result)\n",
    "\t\tif read_result == GlitchResult.SUCCESS:\n",
    "\t\t\tprint(f'Got success data: 0x{read_data.hex()}')\n",
    "\t\tif read_result == GlitchResult.WEIRD:\n",
    "\t\t\tprint(f'Got weird response: 0x{read_data.hex()}')\n",
    "\t\tif read_result == GlitchResult.BROKEN:\n",
    "\t\t\tprint(f'The target is in broken state: {glitch_utils.RESULT_NAMES[read_data]} (0x{int.from_bytes(read_data):x})')\n",
    "\t\tax.plot(*glitch_setting, glitch_utils.result_to_marker(read_result))\n",
    "\t\tfig.canvas.draw() # Guarantees live update of the plot whenever a new point is added\n",
    "except KeyboardInterrupt:\n",
    "\tpass # Gentle stop, otherwise the plot might look empty"
   ]
  }
 ],
 "metadata": {
  "kernelspec": {
   "display_name": "venv-thesis",
   "language": "python",
   "name": "python3"
  },
  "language_info": {
   "codemirror_mode": {
    "name": "ipython",
    "version": 3
   },
   "file_extension": ".py",
   "mimetype": "text/x-python",
   "name": "python",
   "nbconvert_exporter": "python",
   "pygments_lexer": "ipython3",
   "version": "3.12.3"
  }
 },
 "nbformat": 4,
 "nbformat_minor": 2
}
