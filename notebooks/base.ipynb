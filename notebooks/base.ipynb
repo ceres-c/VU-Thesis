{
 "cells": [
  {
   "cell_type": "markdown",
   "metadata": {},
   "source": [
    "# Picocoder\n",
    "_A Raspberry Pi Pico microcode glitcher_\n",
    "\n",
    "## Connection\n",
    "We connect with the Pi Pico and setup some glitching options."
   ]
  },
  {
   "cell_type": "code",
   "execution_count": 1,
   "metadata": {},
   "outputs": [],
   "source": [
    "%matplotlib widget\n",
    "\n",
    "PORT = '/dev/ttyACM1'\n",
    "BAUD = 115200\n",
    "\n",
    "import struct\n",
    "import matplotlib.pyplot as plt\n",
    "from matplotlib.ticker import MaxNLocator\n",
    "from importlib import reload # for debugging\n",
    "\n",
    "import glitch_utils\n",
    "from glitch_utils import GlitchResult\n",
    "glitch_utils = reload(glitch_utils)\n",
    "\n",
    "try:\n",
    "\tdel glitcher\n",
    "\tdel gc\n",
    "except:\n",
    "\tpass\n",
    "glitcher = glitch_utils.GlitchyMcGlitchFace(PORT, BAUD)\n",
    "gc = glitch_utils.GlitchController(groups=[r.name for r in GlitchResult], parameters=['ext_offset', 'width'])\n",
    "gc.set_range('ext_offset', 1, 10)\n",
    "gc.set_range('width', 1, 10)"
   ]
  },
  {
   "cell_type": "markdown",
   "metadata": {},
   "source": [
    "## Estimating glitch external offset\n",
    "We obtain an estimate (in us) of the wait time between trigger and glitch."
   ]
  },
  {
   "cell_type": "code",
   "execution_count": 2,
   "metadata": {},
   "outputs": [
    {
     "name": "stdout",
     "output_type": "stream",
     "text": [
      "Estimated offset: 129\n"
     ]
    }
   ],
   "source": [
    "glitcher.s.write(glitch_utils.P_CMD_ESTIMATE_OFFSET)\n",
    "ret_data = glitcher.s.read(4)\n",
    "ext_offset = struct.unpack(\"<i\", ret_data)[0]\n",
    "gc.set_range('ext_offset', ext_offset-10, ext_offset+10)\n",
    "print(f\"Estimated offset: {ext_offset}\")"
   ]
  },
  {
   "cell_type": "markdown",
   "metadata": {},
   "source": [
    "## Measure UART delay\n",
    "This command is used to measure (externally) the time it takes for the Pico to\n",
    "detect data on the UART RX pin and to start processing it. <br>\n",
    "The debug pin (GPIO 16, shown blue) is toggled when the Pico detects data.\n",
    "\n",
    "![Oscilloscope capture](../firmware/inject_v2/img/fast_response_time_busy_wait_on_UART_with_timeout.png)"
   ]
  },
  {
   "cell_type": "code",
   "execution_count": 3,
   "metadata": {},
   "outputs": [
    {
     "name": "stdout",
     "output_type": "stream",
     "text": [
      "Found trigger: True\n"
     ]
    }
   ],
   "source": [
    "glitcher.s.write(glitch_utils.P_CMD_UART_DEBUG_TOGGLE)\n",
    "ret_data = glitcher.s.read(4)\n",
    "result = (bool)(struct.unpack(\"<I\", ret_data)[0])\n",
    "print(f\"Found trigger: {result}\")"
   ]
  },
  {
   "cell_type": "markdown",
   "metadata": {},
   "source": [
    "## Glitch loop"
   ]
  },
  {
   "cell_type": "code",
   "execution_count": 4,
   "metadata": {},
   "outputs": [
    {
     "data": {
      "application/vnd.jupyter.widget-view+json": {
       "model_id": "6f8d0022473d455cbddf3a303c5dc37d",
       "version_major": 2,
       "version_minor": 0
      },
      "image/png": "[encoded data removed]",
      "text/html": [
       "\n",
       "            <div style=\"display: inline-block;\">\n",
       "                <div class=\"jupyter-widgets widget-label\" style=\"text-align: center;\">\n",
       "                    Figure\n",
       "                </div>\n",
       "                <img src='data:image/png;base64,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' width=640.0/>\n",
       "            </div>\n",
       "        "
      ],
      "text/plain": [
       "Canvas(toolbar=Toolbar(toolitems=[('Home', 'Reset original view', 'home', 'home'), ('Back', 'Back to previous …"
      ]
     },
     "metadata": {},
     "output_type": "display_data"
    }
   ],
   "source": [
    "# NOTE This figure must be generated in a different cell than the one that calls the plot function\n",
    "#\t   Otherwise the plot will not be displayed until the cell is done executing (no live plot)\n",
    "fig, ax = plt.subplots()\n",
    "ax.yaxis.set_major_locator(MaxNLocator(integer=True))\n",
    "ax.xaxis.set_major_locator(MaxNLocator(integer=True))"
   ]
  },
  {
   "cell_type": "code",
   "execution_count": 5,
   "metadata": {},
   "outputs": [],
   "source": [
    "try:\n",
    "\tfor glitch_setting in gc.rand_glitch_values():\n",
    "\t\tread_result, read_data = glitcher.glitch_mul(glitch_setting, expected=0x1337)\n",
    "\t\tgc.add_result(glitch_setting, read_result)\n",
    "\t\tif read_result == GlitchResult.SUCCESS:\n",
    "\t\t\tprint(f'Got success data: 0x{read_data.hex()}')\n",
    "\t\tif read_result == GlitchResult.WEIRD:\n",
    "\t\t\tprint(f'Got weird response: 0x{read_data.hex()}')\n",
    "\t\tif read_result == GlitchResult.BROKEN:\n",
    "\t\t\tprint(f'The target is in broken state: {glitch_utils.RESULT_NAMES[read_data]} (0x{int.from_bytes(read_data):x})')\n",
    "\t\tax.plot(*glitch_setting, glitch_utils.result_to_marker(read_result))\n",
    "\t\tfig.canvas.draw() # Guarantees live update of the plot whenever a new point is added\n",
    "except KeyboardInterrupt:\n",
    "\tpass # Gentle stop, otherwise the plot might be empty"
   ]
  }
 ],
 "metadata": {
  "kernelspec": {
   "display_name": "venv-thesis",
   "language": "python",
   "name": "python3"
  },
  "language_info": {
   "codemirror_mode": {
    "name": "ipython",
    "version": 3
   },
   "file_extension": ".py",
   "mimetype": "text/x-python",
   "name": "python",
   "nbconvert_exporter": "python",
   "pygments_lexer": "ipython3",
   "version": "3.12.3"
  }
 },
 "nbformat": 4,
 "nbformat_minor": 2
}
