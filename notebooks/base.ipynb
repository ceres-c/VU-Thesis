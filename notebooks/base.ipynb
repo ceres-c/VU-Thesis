{
 "cells": [
  {
   "cell_type": "code",
   "execution_count": null,
   "metadata": {},
   "outputs": [],
   "source": [
    "%matplotlib widget\n",
    "\n",
    "PORT = '/dev/ttyACM1'\n",
    "BAUD = 115200\n",
    "\n",
    "import matplotlib.pyplot as plt\n",
    "from matplotlib.ticker import MaxNLocator\n",
    "from importlib import reload # for debugging\n",
    "\n",
    "import glitch_utils\n",
    "from glitch_utils import GlitchResult\n",
    "glitch_utils = reload(glitch_utils)\n",
    "\n",
    "try:\n",
    "\tdel glitcher\n",
    "\tdel gc\n",
    "except:\n",
    "\tpass\n",
    "glitcher = glitch_utils.GlitchyMcGlitchFace(PORT, BAUD)\n",
    "gc = glitch_utils.GlitchController(groups=[r.name for r in GlitchResult], parameters=['ext_offset', 'width'])\n",
    "gc.set_range('ext_offset', 1, 10)\n",
    "gc.set_range('width', 1, 10)\n",
    "\n",
    "# NOTE This figure must be generated in a different cell than the one that calls the plot function\n",
    "#\t   Otherwise the plot will not be displayed until the cell is done executing (no live plot)\n",
    "fig, ax = plt.subplots()\n",
    "ax.yaxis.set_major_locator(MaxNLocator(integer=True))\n",
    "ax.xaxis.set_major_locator(MaxNLocator(integer=True))"
   ]
  },
  {
   "cell_type": "code",
   "execution_count": null,
   "metadata": {},
   "outputs": [],
   "source": [
    "for glitch_setting in gc.rand_glitch_values():\n",
    "\tread_result, read_data = glitcher.glitch_mul(glitch_setting, expected=0x1337)\n",
    "\tgc.add_result(glitch_setting, read_result)\n",
    "\tif read_result == GlitchResult.SUCCESS:\n",
    "\t\tprint(f'Got success data: 0x{read_data.hex()}')\n",
    "\tif read_result == GlitchResult.WEIRD:\n",
    "\t\tprint(f'Got weird response: 0x{read_data.hex()}')\n",
    "\tif read_result == GlitchResult.BROKEN:\n",
    "\t\tprint(f'The target is behaving in a strange way: {read_data}')\n",
    "\tax.plot(*glitch_setting, glitch_utils.result_to_marker(read_result))\n",
    "\tfig.canvas.draw() # Guarantees live update of the plot whenever a new point is added"
   ]
  }
 ],
 "metadata": {
  "kernelspec": {
   "display_name": "venv-thesis",
   "language": "python",
   "name": "python3"
  },
  "language_info": {
   "codemirror_mode": {
    "name": "ipython",
    "version": 3
   },
   "file_extension": ".py",
   "mimetype": "text/x-python",
   "name": "python",
   "nbconvert_exporter": "python",
   "pygments_lexer": "ipython3",
   "version": "3.12.3"
  }
 },
 "nbformat": 4,
 "nbformat_minor": 2
}
