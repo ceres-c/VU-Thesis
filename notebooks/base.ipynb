{
 "cells": [
  {
   "cell_type": "markdown",
   "metadata": {},
   "source": [
    "# Picocoder\n",
    "_A Raspberry Pi Pico microcode glitcher_\n",
    "\n",
    "## Connection\n",
    "We connect with the Pi Pico and setup some glitching options."
   ]
  },
  {
   "cell_type": "code",
   "execution_count": 1,
   "metadata": {},
   "outputs": [],
   "source": [
    "%matplotlib widget\n",
    "\n",
    "POWERSUPPLY_PORT = '/dev/ttyACM0'\n",
    "GLITCHER_PORT = '/dev/ttyACM1'\n",
    "GLITCHER_BAUD = 115200\n",
    "\n",
    "import struct\n",
    "import time\n",
    "import matplotlib.pyplot as plt\n",
    "from matplotlib.ticker import MaxNLocator\n",
    "from importlib import reload # for debugging\n",
    "\n",
    "import glitch_utils\n",
    "from glitch_utils import GlitchyMcGlitchFace, GlitchResult\n",
    "from power_supply import PowerSupply, KA3305P\n",
    "glitch_utils = reload(glitch_utils)\n",
    "\n",
    "try:\n",
    "\tdel ps\n",
    "\tdel glitcher\n",
    "\tdel gc\n",
    "except:\n",
    "\tpass\n",
    "ps = KA3305P(port=POWERSUPPLY_PORT)\n",
    "ps.con()\n",
    "ps.power_cycle()\n",
    "\n",
    "glitcher = glitch_utils.GlitchyMcGlitchFace(GLITCHER_PORT, GLITCHER_BAUD)\n",
    "if not glitcher.ping():\n",
    "\traise Exception(\"Glitcher not responding\")\n",
    "if not glitcher.ping_target():\n",
    "\traise Exception(\"Target not responding\")\n",
    "\n",
    "gc = glitch_utils.GlitchController(groups=[r.name for r in GlitchResult], parameters=['ext_offset', 'width', 'voltage'])\n",
    "gc.set_range('ext_offset', 1, 10)\n",
    "gc.set_range('width', 1, 10)\n",
    "gc.set_range('voltage', 0b0110011, 0b1001011) # 1V-1.24V - See Table 6-3 in TPS65094 datasheet\n",
    "\n",
    "def reset_target(ps: PowerSupply, glitcher: GlitchyMcGlitchFace, timeout: float = 1.5) -> None:\n",
    "\tps.power_cycle()\n",
    "\tif not glitcher.ping_target(timeout):\n",
    "\t\traise Exception(\"Target not responding after reset\")"
   ]
  },
  {
   "cell_type": "markdown",
   "metadata": {},
   "source": [
    "## Estimating glitch external offset\n",
    "We obtain an estimate (in us) of the wait time between trigger and glitch."
   ]
  },
  {
   "cell_type": "code",
   "execution_count": 2,
   "metadata": {},
   "outputs": [
    {
     "name": "stdout",
     "output_type": "stream",
     "text": [
      "Estimated offset: 128\n"
     ]
    }
   ],
   "source": [
    "if not glitcher.ping_target(1.5):\n",
    "\treset_target(ps, glitcher)\n",
    "\n",
    "glitcher.s.write(glitch_utils.P_CMD_ESTIMATE_OFFSET)\n",
    "ret_data = glitcher.s.read(4)\n",
    "ext_offset = struct.unpack(\"<i\", ret_data)[0]\n",
    "if ext_offset < 0:\n",
    "\traise Exception(\"Invalid offset\")\n",
    "gc.set_range('ext_offset', ext_offset-20, ext_offset+10)\n",
    "print(f\"Estimated offset: {ext_offset}\")"
   ]
  },
  {
   "cell_type": "markdown",
   "metadata": {},
   "source": [
    "## Measure UART delay\n",
    "This command is used to measure (externally) the time it takes for the Pico to\n",
    "detect data on the UART RX pin and to start processing it. <br>\n",
    "The debug pin (GPIO 16, shown blue) is toggled when the Pico detects data.\n",
    "\n",
    "![Oscilloscope capture](../firmware/inject_v2/img/fast_response_time_busy_wait_on_UART_with_timeout.png)"
   ]
  },
  {
   "cell_type": "code",
   "execution_count": 3,
   "metadata": {},
   "outputs": [
    {
     "name": "stdout",
     "output_type": "stream",
     "text": [
      "Found trigger: True\n"
     ]
    }
   ],
   "source": [
    "glitcher.s.write(glitch_utils.P_CMD_UART_DEBUG_TOGGLE)\n",
    "ret_data = glitcher.s.read(4)\n",
    "result = (bool)(struct.unpack(\"<I\", ret_data)[0])\n",
    "print(f\"Found trigger: {result}\")"
   ]
  },
  {
   "cell_type": "markdown",
   "metadata": {},
   "source": [
    "## Voltage range\n",
    "\n",
    "Find where the CPU starts to stall. We ask the target to send 50 bytes to the\n",
    "pico, and then we bring the voltage down for a fairly long time.\n",
    "\n",
    "The target will then either behave normally or die altogether, not just stall\n",
    "for some clock cycles. This test is fairly slow as it involves a lot of\n",
    "external resets, but within a handful of minutes a sensible working voltage\n",
    "can be identified right above the reset cluster\n",
    "\n",
    "![Voltage range test plot (ignore the squares)](img/voltage_range_plot.png)\n",
    "\n",
    "Here, for example, we can see that down to 59 (0b111011) the target is mostly\n",
    "working, but there is a significant amount of crashed at 58 (0b111010). 59 will\n",
    "then be the starting value for the glitching range.\n",
    "\n",
    "### Oscilloscope captures\n",
    "| Color | Description |\n",
    "| --- | --- |\n",
    "| Yellow | Target UART TX |\n",
    "| Pink | PMBus/I2C SCL |\n",
    "| Blue | PMBus/I2C SDA |\n",
    "| Green | VCore |\n",
    "\n",
    "#### No effect\n",
    "When the voltage drop does not affect the target, it will successfully send the\n",
    "50 bytes.\n",
    "\n",
    "![Safe voltage and width](img/voltage_range_alive.png)\n",
    "\n",
    "#### CPU halt\n",
    "When the voltage is too low, the target will hang and not finish sending data.\n",
    "\n",
    "![Too low voltage](img/voltage_range_dead.png)"
   ]
  },
  {
   "cell_type": "code",
   "execution_count": 4,
   "metadata": {},
   "outputs": [
    {
     "data": {
      "application/vnd.jupyter.widget-view+json": {
       "model_id": "d590bfdc99914081b291af3ea57c7d77",
       "version_major": 2,
       "version_minor": 0
      },
      "image/png": "[encoded data removed]",
      "text/html": [
       "\n",
       "            <div style=\"display: inline-block;\">\n",
       "                <div class=\"jupyter-widgets widget-label\" style=\"text-align: center;\">\n",
       "                    Figure\n",
       "                </div>\n",
       "                <img src='data:image/png;base64,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' width=640.0/>\n",
       "            </div>\n",
       "        "
      ],
      "text/plain": [
       "Canvas(toolbar=Toolbar(toolitems=[('Home', 'Reset original view', 'home', 'home'), ('Back', 'Back to previous …"
      ]
     },
     "metadata": {},
     "output_type": "display_data"
    }
   ],
   "source": [
    "# NOTE This figure must be generated in a different cell than the one that calls the plot function\n",
    "#\t   Otherwise the plot will not be displayed until the cell is done executing (no live plot)\n",
    "fig, ax = plt.subplots()\n",
    "ax.yaxis.set_major_locator(MaxNLocator(integer=True))\n",
    "ax.xaxis.set_major_locator(MaxNLocator(integer=True))"
   ]
  },
  {
   "cell_type": "code",
   "execution_count": 5,
   "metadata": {},
   "outputs": [],
   "source": [
    "EXPECTED_BYTES = 50\n",
    "\n",
    "gc_volt = glitch_utils.GlitchController(groups=[r.name for r in GlitchResult], parameters=['width', 'voltage'])\n",
    "gc_volt.set_range('width', 1, 100)\n",
    "gc_volt.set_range('voltage', 0b0110011, 0b1001011) # 1V-1.24V - See Table 6-3 in TPS65094 datasheet\n",
    "\n",
    "glitcher.ext_offset = 500 # Offset fixed\n",
    "\n",
    "for glitch_setting in gc_volt.rand_glitch_values():\n",
    "\ttry:\n",
    "\t\tresult, data = glitcher.find_crash_voltage(glitch_setting, EXPECTED_BYTES)\n",
    "\n",
    "\t\tax.plot(*glitch_setting, result)\n",
    "\t\tfig.canvas.draw() # Guarantees live update of the plot whenever a new point is added\n",
    "\n",
    "\t\tif result in [GlitchResult.DEAD, GlitchResult.RESET, GlitchResult.BROKEN]:\n",
    "\t\t\treset_target(ps, glitcher)\n",
    "\texcept KeyboardInterrupt:\n",
    "\t\tbreak # Gentle stop, otherwise the plot might look empty"
   ]
  },
  {
   "cell_type": "markdown",
   "metadata": {},
   "source": [
    "## Glitch loop"
   ]
  },
  {
   "cell_type": "code",
   "execution_count": null,
   "metadata": {},
   "outputs": [],
   "source": [
    "# NOTE This figure must be generated in a different cell than the one that calls the plot function\n",
    "#\t   Otherwise the plot will not be displayed until the cell is done executing (no live plot)\n",
    "fig, ax = plt.subplots()\n",
    "ax.yaxis.set_major_locator(MaxNLocator(integer=True))\n",
    "ax.xaxis.set_major_locator(MaxNLocator(integer=True))"
   ]
  },
  {
   "cell_type": "code",
   "execution_count": null,
   "metadata": {},
   "outputs": [],
   "source": [
    "for glitch_setting in gc.rand_glitch_values():\n",
    "\ttry:\n",
    "\t\tread_result, read_data = glitcher.glitch_mul(glitch_setting, expected=0x1337)\n",
    "\t\tgc.add_result(glitch_setting, read_result)\n",
    "\t\tif read_result == GlitchResult.SUCCESS:\n",
    "\t\t\tprint(f'Got success data: 0x{read_data.hex()}')\n",
    "\t\tif read_result == GlitchResult.WEIRD:\n",
    "\t\t\tprint(f'Got weird response: 0x{read_data.hex()}')\n",
    "\t\tif read_result == GlitchResult.BROKEN:\n",
    "\t\t\tprint(f'The target is in broken state: {glitch_utils.RESULT_NAMES[read_data]} (0x{int.from_bytes(read_data):x})')\n",
    "\n",
    "\t\t[offset, width, _] = glitch_setting\n",
    "\t\tax.plot(offset, width, read_result)\n",
    "\t\tfig.canvas.draw() # Guarantees live update of the plot whenever a new point is added\n",
    "\texcept KeyboardInterrupt:\n",
    "\t\tbreak # Gentle stop, otherwise the plot might look empty"
   ]
  }
 ],
 "metadata": {
  "kernelspec": {
   "display_name": "venv-thesis",
   "language": "python",
   "name": "python3"
  },
  "language_info": {
   "codemirror_mode": {
    "name": "ipython",
    "version": 3
   },
   "file_extension": ".py",
   "mimetype": "text/x-python",
   "name": "python",
   "nbconvert_exporter": "python",
   "pygments_lexer": "ipython3",
   "version": "3.11.8"
  }
 },
 "nbformat": 4,
 "nbformat_minor": 2
}
