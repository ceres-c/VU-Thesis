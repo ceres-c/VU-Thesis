{
 "cells": [
  {
   "cell_type": "code",
   "execution_count": null,
   "metadata": {},
   "outputs": [],
   "source": [
    "%matplotlib widget\n",
    "\n",
    "PORT = '/dev/ttyACM1'\n",
    "BAUD = 115200\n",
    "\n",
    "P_CMD_ARM\t\t\t\t\t= b'\\x20'\n",
    "P_CMD_DISARM\t\t\t\t= b'\\x21'\n",
    "P_CMD_SET_EXT_OFFST\t\t\t= b'\\x22'\n",
    "P_CMD_SET_WIDTH\t\t\t\t= b'\\x23'\n",
    "\n",
    "P_CMD_ARM\t\t\t\t\t= b'\\x20'\t# Enable glitch handler\n",
    "P_CMD_DISARM\t\t\t\t= b'\\x21'\t# Disable glitch handler\n",
    "P_CMD_FORCE\t\t\t\t\t= b'\\x22'\t# Force write to PMBus to perform a glitch\n",
    "P_CMD_SET_VOLTAGE\t\t\t= b'\\x23'\t# Set glitch voltage\n",
    "P_CMD_SET_EXT_OFFST\t\t\t= b'\\x24'\t# Set external offset (wait after trig.) in us\n",
    "P_CMD_SET_WIDTH\t\t\t\t= b'\\x25'\t# Set glitch width\t(duration of glitch) in us\n",
    "\n",
    "P_CMD_RESULT_RESET\t\t\t= b'\\x50'\t# Target reset\n",
    "P_CMD_RESULT_ALIVE\t\t\t= b'\\x51'\t# Target alive (data will follow)\n",
    "P_CMD_RESULT_WEIRD\t\t\t= b'\\x52'\t# Target weird\n",
    "P_CMD_RESULT_DATA_TIMEOUT\t= b'\\x53'\t# Target timeout (e.g. target already sent post-glitch data)\n",
    "\n",
    "P_CMD_RETURN_OK\t\t\t\t= b'\\x61'\t# Command successful\n",
    "P_CMD_RETURN_KO\t\t\t\t= b'\\x62'\t# Command failed\n",
    "\n",
    "import time\n",
    "import struct\n",
    "import serial\n",
    "import matplotlib.pyplot as plt\n",
    "\n",
    "s = serial.Serial(port=PORT, baudrate=BAUD, timeout=0.1)"
   ]
  },
  {
   "cell_type": "code",
   "execution_count": null,
   "metadata": {},
   "outputs": [],
   "source": [
    "\n",
    "start = time.time()\n",
    "count = 0\n",
    "while True:\n",
    "\tcount += 1\n",
    "\ts.write(P_CMD_ARM)\n",
    "\ttry:\n",
    "\t\tdata = s.read(1)\n",
    "\t\tif not data:\n",
    "\t\t\tprint('TIMEOUT') # Target not connected to glitcher\n",
    "\t\telif data == P_CMD_RESULT_RESET:\n",
    "\t\t\tprint('RESET')\n",
    "\t\telif data == P_CMD_RESULT_ALIVE:\n",
    "\t\t\tretval = s.read(4)\n",
    "\t\t\tprint(f'ALIVE 0x{struct.unpack(\"<I\", retval)[0]:08x}')\n",
    "\t\telif data == P_CMD_RESULT_WEIRD:\n",
    "\t\t\tprint('WEIRD')\n",
    "\t\telif data == P_CMD_RESULT_DATA_TIMEOUT:\n",
    "\t\t\tprint('TIMEOUT')\n",
    "\t\t\tcount -= 1\n",
    "\t\telse:\n",
    "\t\t\tprint('UNKNOWN', data)\n",
    "\texcept KeyboardInterrupt:\n",
    "\t\tend = time.time()\n",
    "\t\ts.write(P_CMD_DISARM)\n",
    "\t\tprint(f'Elapsed: {end - start:.2f}s')\n",
    "\t\tprint(f'Count: {count}')\n",
    "\t\tprint(f'Rate: {count / (end - start):.2f}Hz')\n",
    "\t\tbreak"
   ]
  },
  {
   "cell_type": "code",
   "execution_count": null,
   "metadata": {},
   "outputs": [],
   "source": [
    "import matplotlib.pyplot as plt\n",
    "\n",
    "fig, ax = plt.subplots()\n",
    "ax.plot(1, 2)\n",
    "ax.set_title('A single plot')"
   ]
  },
  {
   "cell_type": "code",
   "execution_count": null,
   "metadata": {},
   "outputs": [],
   "source": [
    "ax.plot(3, 3, 'ro')"
   ]
  }
 ],
 "metadata": {
  "kernelspec": {
   "display_name": "venv-thesis",
   "language": "python",
   "name": "python3"
  },
  "language_info": {
   "codemirror_mode": {
    "name": "ipython",
    "version": 3
   },
   "file_extension": ".py",
   "mimetype": "text/x-python",
   "name": "python",
   "nbconvert_exporter": "python",
   "pygments_lexer": "ipython3",
   "version": "3.12.3"
  }
 },
 "nbformat": 4,
 "nbformat_minor": 2
}
