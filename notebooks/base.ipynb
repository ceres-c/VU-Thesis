{
 "cells": [
  {
   "cell_type": "markdown",
   "metadata": {},
   "source": [
    "# Picocoder\n",
    "_A Raspberry Pi Pico microcode glitcher_\n",
    "\n",
    "## Connection\n",
    "We connect with the Pi Pico and setup some glitching options."
   ]
  },
  {
   "cell_type": "code",
   "execution_count": 1,
   "metadata": {},
   "outputs": [],
   "source": [
    "%matplotlib widget\n",
    "\n",
    "POWERSUPPLY_PORT = '/dev/ttyACM0'\n",
    "GLITCHER_PORT = '/dev/ttyACM1'\n",
    "GLITCHER_BAUD = 115200\n",
    "\n",
    "import matplotlib.pyplot as plt\n",
    "from matplotlib.ticker import MaxNLocator\n",
    "from importlib import reload # for debugging\n",
    "\n",
    "import glitch_utils\n",
    "from glitch_utils import GlitchyMcGlitchFace, GlitchResult\n",
    "from power_supply import PowerSupply, KA3305P\n",
    "glitch_utils = reload(glitch_utils)\n",
    "\n",
    "try:\n",
    "\tdel ps\n",
    "\tdel glitcher\n",
    "\tdel gc\n",
    "except:\n",
    "\tpass\n",
    "ps = KA3305P(port=POWERSUPPLY_PORT, cycle_wait=0.5)\n",
    "ps.con()\n",
    "ps.power_cycle()\n",
    "\n",
    "glitcher = glitch_utils.GlitchyMcGlitchFace(GLITCHER_PORT, GLITCHER_BAUD)\n",
    "if not glitcher.ping():\n",
    "\traise Exception(\"Glitcher not responding\")\n",
    "if not glitcher.ping_target():\n",
    "\traise Exception(\"Target not responding\")\n",
    "\n",
    "def reset_target(ps: PowerSupply, glitcher: GlitchyMcGlitchFace) -> None:\n",
    "\tps.power_cycle()\n",
    "\tif not glitcher.ping_target():\n",
    "\t\traise Exception(\"Target not responding after reset\")"
   ]
  },
  {
   "cell_type": "markdown",
   "metadata": {},
   "source": [
    "## Estimating glitch external offset\n",
    "We obtain an estimate (in us) of the wait time between trigger and glitch."
   ]
  },
  {
   "cell_type": "code",
   "execution_count": 2,
   "metadata": {},
   "outputs": [
    {
     "name": "stdout",
     "output_type": "stream",
     "text": [
      "Estimated offset: 183\n"
     ]
    }
   ],
   "source": [
    "ext_offset = glitcher.estimate_ext_offset()\n",
    "if ext_offset < 0:\n",
    "\traise Exception(f'Invalid offset {ext_offset}')\n",
    "print(f\"Estimated offset: {ext_offset}\")"
   ]
  },
  {
   "cell_type": "markdown",
   "metadata": {},
   "source": [
    "## Measure UART delay\n",
    "This command is used to measure (externally) the time it takes for the Pico to\n",
    "detect data on the UART RX pin and to start processing it. <br>\n",
    "The debug pin (GPIO 16, shown blue) is toggled when the Pico detects data.\n",
    "\n",
    "![Oscilloscope capture](../firmware/inject_v2/img/fast_response_time_busy_wait_on_UART_with_timeout.png)"
   ]
  },
  {
   "cell_type": "code",
   "execution_count": 4,
   "metadata": {},
   "outputs": [],
   "source": [
    "glitcher.uart_toggle_debug_pin()"
   ]
  },
  {
   "cell_type": "markdown",
   "metadata": {},
   "source": [
    "## Voltage range\n",
    "\n",
    "Find where the CPU starts to stall. We ask the target to send 50 bytes to the\n",
    "pico, and then we bring the voltage down for a fairly long time.\n",
    "\n",
    "The target will then either behave normally or die altogether, not just stall\n",
    "for some clock cycles. This test is fairly slow as it involves a lot of\n",
    "external resets, but within a handful of minutes a sensible working voltage\n",
    "can be identified right above the reset cluster\n",
    "\n",
    "![Voltage range test plot (ignore the squares)](img/voltage_range_plot.png)\n",
    "\n",
    "Here, for example, we can see that down to 59 (0b111011) the target is mostly\n",
    "working, but there is a significant amount of crashed at 58 (0b111010). 59 will\n",
    "then be the starting value for the glitching range.\n",
    "\n",
    "### Oscilloscope captures\n",
    "| Color | Description |\n",
    "| --- | --- |\n",
    "| Yellow | Target UART TX |\n",
    "| Pink | PMBus/I2C SCL |\n",
    "| Blue | PMBus/I2C SDA |\n",
    "| Green | VCore |\n",
    "\n",
    "#### No effect\n",
    "When the voltage drop does not affect the target, it will successfully send the\n",
    "50 bytes.\n",
    "\n",
    "![Safe voltage and width](img/voltage_range_alive.png)\n",
    "\n",
    "#### CPU halt\n",
    "When the voltage is too low, the target will hang and not finish sending data.\n",
    "\n",
    "![Too low voltage](img/voltage_range_dead.png)"
   ]
  },
  {
   "cell_type": "code",
   "execution_count": null,
   "metadata": {},
   "outputs": [],
   "source": [
    "# NOTE This figure must be generated in a different cell than the one that calls the plot function\n",
    "#\t   Otherwise the plot will not be displayed until the cell is done executing (no live plot)\n",
    "fig, ax = plt.subplots()\n",
    "ax.yaxis.set_major_locator(MaxNLocator(integer=True))\n",
    "ax.xaxis.set_major_locator(MaxNLocator(integer=True))"
   ]
  },
  {
   "cell_type": "code",
   "execution_count": null,
   "metadata": {},
   "outputs": [],
   "source": [
    "EXPECTED_BYTES = 50\n",
    "\n",
    "gc_volt = glitch_utils.GlitchController(groups=[r.name for r in GlitchResult], parameters=['width', 'voltage'])\n",
    "gc_volt.set_range('width', 1, 100)\n",
    "gc_volt.set_range('voltage', 0b0110011, 0b1001011) # 1V-1.24V - See Table 6-3 in TPS65094 datasheet\n",
    "\n",
    "glitcher.ext_offset = 500 # Offset fixed\n",
    "\n",
    "for glitch_setting in gc_volt.rand_glitch_values():\n",
    "\ttry:\n",
    "\t\tresult, data = glitcher.find_crash_voltage(glitch_setting, EXPECTED_BYTES)\n",
    "\n",
    "\t\tax.plot(*glitch_setting, result)\n",
    "\t\tfig.canvas.draw() # Guarantees live update of the plot whenever a new point is added\n",
    "\n",
    "\t\tif result in [GlitchResult.DEAD, GlitchResult.RESET, GlitchResult.BROKEN]:\n",
    "\t\t\treset_target(ps, glitcher)\n",
    "\texcept KeyboardInterrupt:\n",
    "\t\tfig.canvas.draw()\n",
    "\t\tbreak # Gentle stop, otherwise the plot might look empty"
   ]
  },
  {
   "cell_type": "markdown",
   "metadata": {},
   "source": [
    "## Estimate Vp in other ways\n",
    "Misuse glitch to estimate Vp"
   ]
  },
  {
   "cell_type": "code",
   "execution_count": null,
   "metadata": {},
   "outputs": [],
   "source": [
    "gc_vp = glitch_utils.GlitchController(groups=[r.name for r in GlitchResult], parameters=['ext_offset', 'prep_voltage'])\n",
    "gc_vp.set_range('ext_offset', ext_offset+20, ext_offset+50)\n",
    "# gc_vp.set_range('prep_voltage', 0b0101001, 0b0110011) # 0.9V-1V - See Table 6-3 in TPS65094 datasheet\n",
    "gc_vp.set_range('prep_voltage', 0b0011111, 0b0101001) # 0.8V-0.9V - See Table 6-3 in TPS65094 datasheet\n",
    "# gc_vp.set_range('prep_voltage', 0b0010101, 0b0011111) # 0.7V-0.8V - See Table 6-3 in TPS65094 datasheet\n",
    "glitcher.voltage = 0b0111101 # 1.1V\n",
    "\n",
    "# NOTE This figure must be generated in a different cell than the one that calls the plot function\n",
    "#\t   Otherwise the plot will not be displayed until the cell is done executing (no live plot)\n",
    "fig, ax = plt.subplots()\n",
    "ax.yaxis.set_major_locator(MaxNLocator(integer=True))\n",
    "ax.xaxis.set_major_locator(MaxNLocator(integer=True))"
   ]
  },
  {
   "cell_type": "code",
   "execution_count": null,
   "metadata": {},
   "outputs": [],
   "source": [
    "prev_ext_offset = 0\n",
    "prev_prep_voltage = 0\n",
    "\n",
    "for glitch_setting in gc_vp.rand_glitch_values():\n",
    "\ttry:\n",
    "\t\t[ext_offset, prep_voltage] = glitch_setting\n",
    "\t\t# glitcher.voltage = prep_voltage # Use same as prep during \"glitch\"\n",
    "\t\tread_result, read_data = glitcher.mul_test_vp(glitch_setting)\n",
    "\t\tgc_vp.add_result(glitch_setting, read_result)\n",
    "\t\tif read_result == GlitchResult.SUCCESS:\n",
    "\t\t\t[performed, result_a, result_b] = read_data\n",
    "\t\t\tprint(f'SUCCESS! With {performed} iterations, {result_a} != {result_b}')\n",
    "\t\tif read_result == GlitchResult.WEIRD:\n",
    "\t\t\tprint(f'Got weird response: 0x{read_data.hex()}')\n",
    "\n",
    "\t\tif read_result == GlitchResult.BROKEN and prev_ext_offset != 0 and prev_prep_voltage != 0:\n",
    "\t\t\t# Actually something from previous iteration broke it\n",
    "\t\t\tprint(f'prev_ext_offset = {prev_ext_offset}, prev_prep_voltage = {prev_prep_voltage}')\n",
    "\t\t\tax.plot(prev_ext_offset, prev_prep_voltage, read_result)\n",
    "\t\telse:\n",
    "\t\t\t# Print current point\n",
    "\t\t\tax.plot(ext_offset, prep_voltage, read_result)\n",
    "\n",
    "\t\tfig.canvas.draw() # Guarantees live update of the plot whenever a new point is added\n",
    "\n",
    "\t\tif read_result in [GlitchResult.DEAD, GlitchResult.RESET, GlitchResult.BROKEN]:\n",
    "\t\t\treset_target(ps, glitcher)\n",
    "\t\tprev_ext_offset = ext_offset\n",
    "\t\tprev_prep_voltage = prep_voltage\n",
    "\t\tbreak\n",
    "\texcept KeyboardInterrupt:\n",
    "\t\tfig.canvas.draw()\n",
    "\t\tbreak # Gentle stop, otherwise the plot might look empty"
   ]
  },
  {
   "cell_type": "markdown",
   "metadata": {},
   "source": [
    "## Glitch loop"
   ]
  },
  {
   "cell_type": "code",
   "execution_count": null,
   "metadata": {},
   "outputs": [],
   "source": [
    "gc = glitch_utils.GlitchController(groups=[r.name for r in GlitchResult], parameters=['ext_offset', 'width', 'voltage'])\n",
    "gc.set_range('ext_offset', ext_offset-40, ext_offset)\n",
    "gc.set_range('width', 1, 10)\n",
    "gc.set_range('voltage', 0b0010101, 0b0101001) # 0.7V-0.9V - See Table 6-3 in TPS65094 datasheet\n",
    "glitcher.prep_voltage = 0b0111010 # 1.07V\n",
    "\n",
    "# NOTE This figure must be generated in a different cell than the one that calls the plot function\n",
    "#\t   Otherwise the plot will not be displayed until the cell is done executing (no live plot)\n",
    "fig, ax = plt.subplots()\n",
    "ax.yaxis.set_major_locator(MaxNLocator(integer=True))\n",
    "ax.xaxis.set_major_locator(MaxNLocator(integer=True))"
   ]
  },
  {
   "cell_type": "code",
   "execution_count": null,
   "metadata": {},
   "outputs": [],
   "source": [
    "for glitch_setting in gc.rand_glitch_values():\n",
    "\ttry:\n",
    "\t\tread_result, read_data = glitcher.glitch_mul(glitch_setting)\n",
    "\t\tgc.add_result(glitch_setting, read_result)\n",
    "\t\tif read_result == GlitchResult.SUCCESS:\n",
    "\t\t\t[performed, result_a, result_b] = read_data\n",
    "\t\t\tprint(f'SUCCESS! With {performed} iterations, {result_a} != {result_b}')\n",
    "\t\tif read_result == GlitchResult.WEIRD:\n",
    "\t\t\tprint(f'Got weird response: 0x{read_data.hex()}')\n",
    "\n",
    "\t\t[_, width, voltage] = glitch_setting\n",
    "\t\tax.plot(width, voltage, read_result)\n",
    "\t\tfig.canvas.draw() # Guarantees live update of the plot whenever a new point is added\n",
    "\n",
    "\t\tif read_result in [GlitchResult.DEAD, GlitchResult.RESET, GlitchResult.BROKEN]:\n",
    "\t\t\treset_target(ps, glitcher)\n",
    "\t\telse:\n",
    "\t\t\tbreak\n",
    "\texcept KeyboardInterrupt:\n",
    "\t\tfig.canvas.draw()\n",
    "\t\tbreak # Gentle stop, otherwise the plot might look empty"
   ]
  }
 ],
 "metadata": {
  "kernelspec": {
   "display_name": "venv-thesis",
   "language": "python",
   "name": "python3"
  },
  "language_info": {
   "codemirror_mode": {
    "name": "ipython",
    "version": 3
   },
   "file_extension": ".py",
   "mimetype": "text/x-python",
   "name": "python",
   "nbconvert_exporter": "python",
   "pygments_lexer": "ipython3",
   "version": "3.12.4"
  }
 },
 "nbformat": 4,
 "nbformat_minor": 2
}
